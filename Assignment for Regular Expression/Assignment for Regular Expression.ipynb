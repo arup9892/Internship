{
 "cells": [
  {
   "cell_type": "markdown",
   "id": "94c25b64",
   "metadata": {},
   "source": [
    "Question 1- Write a Python program to check that a string contains only a certain set of characters (in this case a-z, A-Z and 0-9)."
   ]
  },
  {
   "cell_type": "code",
   "execution_count": null,
   "id": "be1af571",
   "metadata": {},
   "outputs": [],
   "source": [
    "import re\n",
    "\n",
    "def check_string_characters(input_string):\n",
    "    pattern = re.compile(r'^[a-zA-Z0-9]+$')\n",
    "    match = pattern.match(input_string)\n",
    "    if match:\n",
    "        return True\n",
    "    else:\n",
    "        return False\n",
    "\n",
    "\n",
    "input_str = input(\"Enter a string: \")\n",
    "if check_string_characters(input_str):\n",
    "    print(\"The string contains only a-z, A-Z, and 0-9.\")\n",
    "else:\n",
    "    print(\"The string contains characters other than a-z, A-Z, and 0-9.\")\n"
   ]
  },
  {
   "cell_type": "markdown",
   "id": "04c3a822",
   "metadata": {},
   "source": [
    "Question 2- Create a function in python that matches a string that has an a followed by zero or more b's"
   ]
  },
  {
   "cell_type": "code",
   "execution_count": null,
   "id": "85ca23f8",
   "metadata": {},
   "outputs": [],
   "source": [
    "import re\n",
    "\n",
    "def match_string(pattern, input_string):\n",
    "    match = re.match(pattern, input_string)\n",
    "    if match:\n",
    "        return True\n",
    "    else:\n",
    "        return False\n",
    "\n",
    "input_str = input(\"Enter a string: \")\n",
    "if match_string(r'^ab*$', input_str):\n",
    "    print(\"The string matches the pattern: an 'a' followed by zero or more 'b's.\")\n",
    "else:\n",
    "    print(\"The string does not match the pattern.\")\n"
   ]
  },
  {
   "cell_type": "markdown",
   "id": "eab7cba5",
   "metadata": {},
   "source": [
    "Question 3-  Create a function in python that matches a string that has an a followed by one or more b's\n",
    "\n"
   ]
  },
  {
   "cell_type": "code",
   "execution_count": null,
   "id": "7a7cfd53",
   "metadata": {},
   "outputs": [],
   "source": [
    "import re\n",
    "\n",
    "def match_string(pattern, input_string):\n",
    "    match = re.match(pattern, input_string)\n",
    "    if match:\n",
    "        return True\n",
    "    else:\n",
    "        return False\n",
    "\n",
    "input_str = input(\"Enter a string: \")\n",
    "if match_string(r'^ab+$', input_str):\n",
    "    print(\"The string matches the pattern: an 'a' followed by one or more 'b's.\")\n",
    "else:\n",
    "    print(\"The string does not match the pattern.\")\n"
   ]
  },
  {
   "cell_type": "markdown",
   "id": "f5d65e1f",
   "metadata": {},
   "source": [
    "Question 4- Create a function in Python and use RegEx that matches a string that has an a followed by zero or one 'b'."
   ]
  },
  {
   "cell_type": "code",
   "execution_count": null,
   "id": "1f32f8ad",
   "metadata": {},
   "outputs": [],
   "source": [
    "import re\n",
    "\n",
    "def match_string(pattern, input_string):\n",
    "    match = re.match(pattern, input_string)\n",
    "    if match:\n",
    "        return True\n",
    "    else:\n",
    "        return False\n",
    "\n",
    "input_str = input(\"Enter a string: \")\n",
    "if match_string(r'^ab?$', input_str):\n",
    "    print(\"The string matches the pattern: an 'a' followed by zero or one 'b'.\")\n",
    "else:\n",
    "    print(\"The string does not match the pattern.\")\n"
   ]
  },
  {
   "cell_type": "markdown",
   "id": "5484ab1b",
   "metadata": {},
   "source": [
    "Question 5- Write a Python program that matches a string that has an a followed by three 'b'."
   ]
  },
  {
   "cell_type": "code",
   "execution_count": null,
   "id": "41dbefa1",
   "metadata": {},
   "outputs": [],
   "source": [
    "import re\n",
    "\n",
    "def match_string(pattern, input_string):\n",
    "    match = re.match(pattern, input_string)\n",
    "    if match:\n",
    "        return True\n",
    "    else:\n",
    "        return False\n",
    "\n",
    "input_str = input(\"Enter a string: \")\n",
    "if match_string(r'^ab{3}$', input_str):\n",
    "    print(\"The string matches the pattern: an 'a' followed by three 'b's.\")\n",
    "else:\n",
    "    print(\"The string does not match the pattern.\")\n"
   ]
  },
  {
   "cell_type": "markdown",
   "id": "e6043273",
   "metadata": {},
   "source": [
    "Question 7- Write a Python program that matches a string that has an a followed by two to three 'b'."
   ]
  },
  {
   "cell_type": "code",
   "execution_count": null,
   "id": "891bf23c",
   "metadata": {},
   "outputs": [],
   "source": [
    "import re\n",
    "\n",
    "def match_string(pattern, input_string):\n",
    "    match = re.match(pattern, input_string)\n",
    "    if match:\n",
    "        return True\n",
    "    else:\n",
    "        return False\n",
    "\n",
    "input_str = input(\"Enter a string: \")\n",
    "if match_string(r'^ab{2,3}$', input_str):\n",
    "    print(\"The string matches the pattern: an 'a' followed by two to three 'b's.\")\n",
    "else:\n",
    "    print(\"The string does not match the pattern.\")\n"
   ]
  },
  {
   "cell_type": "markdown",
   "id": "d23d0be7",
   "metadata": {},
   "source": [
    "Question 9- Write a Python program that matches a string that has an 'a' followed by anything, ending in 'b'."
   ]
  },
  {
   "cell_type": "code",
   "execution_count": null,
   "id": "d0fa02d7",
   "metadata": {},
   "outputs": [],
   "source": [
    "import re\n",
    "\n",
    "def match_string(pattern, input_string):\n",
    "    match = re.match(pattern, input_string)\n",
    "    if match:\n",
    "        return True\n",
    "    else:\n",
    "        return False\n",
    "\n",
    "input_str = input(\"Enter a string: \")\n",
    "if match_string(r'^a.*b$', input_str):\n",
    "    print(\"The string matches the pattern: an 'a' followed by anything, ending in 'b'.\")\n",
    "else:\n",
    "    print(\"The string does not match the pattern.\")\n"
   ]
  },
  {
   "cell_type": "markdown",
   "id": "23375ac4",
   "metadata": {},
   "source": [
    "Question 10- Write a Python program that matches a word at the beginning of a string."
   ]
  },
  {
   "cell_type": "code",
   "execution_count": null,
   "id": "233c7844",
   "metadata": {},
   "outputs": [],
   "source": [
    "import re\n",
    "\n",
    "def match_string(pattern, input_string):\n",
    "    match = re.match(pattern, input_string)\n",
    "    if match:\n",
    "        return True\n",
    "    else:\n",
    "        return False\n",
    "\n",
    "# Example usage\n",
    "input_str = input(\"Enter a string: \")\n",
    "if match_string(r'^\\w+', input_str):\n",
    "    print(\"The string starts with a word.\")\n",
    "else:\n",
    "    print(\"The string does not start with a word.\")\n"
   ]
  },
  {
   "cell_type": "markdown",
   "id": "0a886bd5",
   "metadata": {},
   "source": [
    "\n",
    "Question 11- Write a Python program to match a string that contains only upper and lowercase letters, numbers, and underscores.\n"
   ]
  },
  {
   "cell_type": "code",
   "execution_count": null,
   "id": "372b432c",
   "metadata": {},
   "outputs": [],
   "source": [
    "import re\n",
    "\n",
    "def match_string(pattern, input_string):\n",
    "    match = re.match(pattern, input_string)\n",
    "    if match:\n",
    "        return True\n",
    "    else:\n",
    "        return False\n",
    "\n",
    "input_str = input(\"Enter a string: \")\n",
    "if match_string(r'^[a-zA-Z0-9_]+$', input_str):\n",
    "    print(\"The string contains only upper and lowercase letters, numbers, and underscores.\")\n",
    "else:\n",
    "    print(\"The string contains characters other than upper and lowercase letters, numbers, and underscores.\")\n"
   ]
  },
  {
   "cell_type": "markdown",
   "id": "1287e80c",
   "metadata": {},
   "source": [
    "Question 12- Write a Python program where a string will start with a specific number. "
   ]
  },
  {
   "cell_type": "code",
   "execution_count": null,
   "id": "0505536e",
   "metadata": {},
   "outputs": [],
   "source": [
    "def check_string_starts_with_number(input_string, specific_number):\n",
    "    if input_string.startswith(str(specific_number)):\n",
    "        return True\n",
    "    else:\n",
    "        return False\n",
    "\n",
    "input_str = input(\"Enter a string: \")\n",
    "specific_num = input(\"Enter a specific number: \")\n",
    "\n",
    "if check_string_starts_with_number(input_str, specific_num):\n",
    "    print(f\"The string starts with {specific_num}.\")\n",
    "else:\n",
    "    print(f\"The string does not start with {specific_num}.\")\n"
   ]
  },
  {
   "cell_type": "markdown",
   "id": "c097c285",
   "metadata": {},
   "source": [
    "Question 13- Write a Python program to remove leading zeros from an IP address"
   ]
  },
  {
   "cell_type": "code",
   "execution_count": null,
   "id": "4dfd943b",
   "metadata": {},
   "outputs": [],
   "source": [
    "def remove_leading_zeros(ip_address):\n",
    "    ip_parts = ip_address.split('.')\n",
    "    cleaned_parts = [str(int(part)) for part in ip_parts]\n",
    "    cleaned_ip = '.'.join(cleaned_parts)\n",
    "    return cleaned_ip\n",
    "\n",
    "ip_address = input(\"Enter an IP address: \")\n",
    "cleaned_ip = remove_leading_zeros(ip_address)\n",
    "print(\"IP address with leading zeros removed:\", cleaned_ip)\n"
   ]
  },
  {
   "cell_type": "markdown",
   "id": "dec0b5f8",
   "metadata": {},
   "source": [
    "Question 14- Write a regular expression in python to match a date string in the form of Month name followed by day number and year stored in a text file.\n",
    "Sample text : ' On August 15th 1947 that India was declared independent from British colonialism, and the reins of control were handed over to the leaders of the Country’.\n",
    "Output- August 15th 1947\n",
    "Hint- Use re.match() method here\n"
   ]
  },
  {
   "cell_type": "code",
   "execution_count": null,
   "id": "1e0deda7",
   "metadata": {},
   "outputs": [],
   "source": [
    "import re\n",
    "\n",
    "def find_date(text):\n",
    "    pattern = r'\\b([A-Z][a-z]+ \\d{1,2}(?:st|nd|rd|th)? \\d{4})\\b'\n",
    "    match = re.match(pattern, text)\n",
    "    if match:\n",
    "        return match.group(1)\n",
    "    else:\n",
    "        return None\n",
    "\n",
    "text = \"On August 15th 1947 that India was declared independent from British colonialism, and the reins of control were handed over to the leaders of the Country.\"\n",
    "\n",
    "result = find_date(text)\n",
    "if result:\n",
    "    print(\"Date found:\", result)\n",
    "else:\n",
    "    print(\"No date found in the given text.\")\n"
   ]
  },
  {
   "cell_type": "markdown",
   "id": "e9b5668d",
   "metadata": {},
   "source": [
    "Question 15- Write a Python program to search some literals strings in a string. Go to the editor\n",
    "Sample text : 'The quick brown fox jumps over the lazy dog.'\n",
    "Searched words : 'fox', 'dog', 'horse'\n"
   ]
  },
  {
   "cell_type": "code",
   "execution_count": null,
   "id": "bfd16bb5",
   "metadata": {},
   "outputs": [],
   "source": [
    "def search_literals(text, searched_words):\n",
    "    found_words = []\n",
    "    for word in searched_words:\n",
    "        if word in text:\n",
    "            found_words.append(word)\n",
    "    return found_words\n",
    "\n",
    "text = 'The quick brown fox jumps over the lazy dog.'\n",
    "searched_words = ['fox', 'dog', 'horse']\n",
    "\n",
    "found_words = search_literals(text, searched_words)\n",
    "print(\"Found words:\", found_words)\n"
   ]
  },
  {
   "cell_type": "markdown",
   "id": "4f537d9b",
   "metadata": {},
   "source": [
    "Question 16- Write a Python program to search a literals string in a string and also find the location within the original string where the pattern occurs\n",
    "Sample text : 'The quick brown fox jumps over the lazy dog.'\n",
    "Searched words : 'fox'"
   ]
  },
  {
   "cell_type": "code",
   "execution_count": null,
   "id": "aeb48c6d",
   "metadata": {},
   "outputs": [],
   "source": [
    "import re\n",
    "\n",
    "def search_literal_with_location(text, searched_word):\n",
    "    pattern = re.compile(re.escape(searched_word))\n",
    "    match = pattern.search(text)\n",
    "    if match:\n",
    "        return match.start(), match.end()\n",
    "    else:\n",
    "        return None\n",
    "\n",
    "text = 'The quick brown fox jumps over the lazy dog.'\n",
    "searched_word = 'fox'\n",
    "\n",
    "result = search_literal_with_location(text, searched_word)\n",
    "if result:\n",
    "    start, end = result\n",
    "    print(\"The word '{}' found at position {} to {} in the text.\".format(searched_word, start, end))\n",
    "else:\n",
    "    print(\"The word '{}' not found in the text.\".format(searched_word))\n"
   ]
  },
  {
   "cell_type": "markdown",
   "id": "44a2efc5",
   "metadata": {},
   "source": [
    "\n",
    "Question 17- Write a Python program to find the substrings within a string.\n",
    "Sample text : 'Python exercises, PHP exercises, C# exercises'\n",
    "Pattern : 'exercises'.\n"
   ]
  },
  {
   "cell_type": "code",
   "execution_count": null,
   "id": "9e7a8f97",
   "metadata": {},
   "outputs": [],
   "source": [
    "import re\n",
    "\n",
    "def find_substrings(text, pattern):\n",
    "    substrings = re.findall(pattern, text)\n",
    "    return substrings\n",
    "\n",
    "text = 'Python exercises, PHP exercises, C# exercises'\n",
    "pattern = 'exercises'\n",
    "\n",
    "substrings = find_substrings(text, pattern)\n",
    "print(\"Substrings found:\", substrings)\n"
   ]
  },
  {
   "cell_type": "markdown",
   "id": "d1c00a54",
   "metadata": {},
   "source": [
    "\n",
    "Question 18- Write a Python program to find the occurrence and position of the substrings within a string.\n"
   ]
  },
  {
   "cell_type": "code",
   "execution_count": null,
   "id": "ffc3d8ba",
   "metadata": {},
   "outputs": [],
   "source": [
    "def find_occurrence_positions(text, substring):\n",
    "    occurrences = []\n",
    "    start = 0\n",
    "    while True:\n",
    "        pos = text.find(substring, start)\n",
    "        if pos == -1:\n",
    "            break\n",
    "        occurrences.append((substring, pos))\n",
    "        start = pos + len(substring)\n",
    "    return occurrences\n",
    "\n",
    "text = 'Python exercises, PHP exercises, C# exercises'\n",
    "substring = 'exercises'\n",
    "\n",
    "occurrences = find_occurrence_positions(text, substring)\n",
    "print(\"Occurrences and positions:\")\n",
    "for occurrence in occurrences:\n",
    "    substring, position = occurrence\n",
    "    print(f\"Substring: '{substring}', Position: {position}\")\n"
   ]
  },
  {
   "cell_type": "markdown",
   "id": "7284d91c",
   "metadata": {},
   "source": [
    "Question 19- Write a Python program to convert a date of yyyy-mm-dd format to dd-mm-yyyy format."
   ]
  },
  {
   "cell_type": "code",
   "execution_count": null,
   "id": "619c5176",
   "metadata": {},
   "outputs": [],
   "source": [
    "def convert_date_format(date):\n",
    "    parts = date.split('-')\n",
    "    converted_date = parts[2] + '-' + parts[1] + '-' + parts[0]\n",
    "    return converted_date\n",
    "\n",
    "date = input(\"Enter a date in yyyy-mm-dd format: \")\n",
    "converted_date = convert_date_format(date)\n",
    "print(\"Converted date:\", converted_date)\n"
   ]
  },
  {
   "cell_type": "markdown",
   "id": "4c50d995",
   "metadata": {},
   "source": [
    "Question 20- Write a Python program to find all words starting with 'a' or 'e' in a given string."
   ]
  },
  {
   "cell_type": "code",
   "execution_count": null,
   "id": "23c7cf05",
   "metadata": {},
   "outputs": [],
   "source": [
    "import re\n",
    "\n",
    "def find_words_starting_with_a_or_e(text):\n",
    "    pattern = r'\\b[ae]\\w+\\b'\n",
    "    words = re.findall(pattern, text, re.IGNORECASE)\n",
    "    return words\n",
    "\n",
    "text = \"Apple and elephant are animals. Eggs are a breakfast favorite.\"\n",
    "words_starting_with_a_or_e = find_words_starting_with_a_or_e(text)\n",
    "print(\"Words starting with 'a' or 'e':\", words_starting_with_a_or_e)\n"
   ]
  },
  {
   "cell_type": "markdown",
   "id": "b7664356",
   "metadata": {},
   "source": [
    "Question 21- Write a Python program to separate and print the numbers and their position of a given string."
   ]
  },
  {
   "cell_type": "code",
   "execution_count": null,
   "id": "41cdafc5",
   "metadata": {},
   "outputs": [],
   "source": [
    "import re\n",
    "\n",
    "def separate_numbers_with_positions(text):\n",
    "    pattern = r'\\d+'\n",
    "    numbers = re.findall(pattern, text)\n",
    "    positions = [match.start() for match in re.finditer(pattern, text)]\n",
    "    return numbers, positions\n",
    "\n",
    "\n",
    "text = \"I have 10 apples and 5 oranges in my basket.\"\n",
    "numbers, positions = separate_numbers_with_positions(text)\n",
    "\n",
    "print(\"Numbers:\", numbers)\n",
    "print(\"Positions:\", positions)\n"
   ]
  },
  {
   "cell_type": "markdown",
   "id": "8cab5921",
   "metadata": {},
   "source": [
    "Question 22- Write a regular expression in python program to extract maximum numeric value from a string"
   ]
  },
  {
   "cell_type": "code",
   "execution_count": null,
   "id": "5d0e609b",
   "metadata": {},
   "outputs": [],
   "source": [
    "import re\n",
    "\n",
    "def extract_maximum_numeric_value(text):\n",
    "    pattern = r'\\b\\d+\\b'\n",
    "    numbers = re.findall(pattern, text)\n",
    "    if numbers:\n",
    "        max_number = max(map(int, numbers))\n",
    "        return max_number\n",
    "    else:\n",
    "        return None\n",
    "\n",
    "text = \"The maximum number is 42, but there are also 20 and 10.\"\n",
    "max_numeric_value = extract_maximum_numeric_value(text)\n",
    "\n",
    "if max_numeric_value is not None:\n",
    "    print(\"Maximum numeric value:\", max_numeric_value)\n",
    "else:\n",
    "    print(\"No numeric values found in the string.\")\n"
   ]
  },
  {
   "cell_type": "markdown",
   "id": "942209d3",
   "metadata": {},
   "source": [
    "Question 23- Write a Regex in Python to put spaces between words starting with capital letters"
   ]
  },
  {
   "cell_type": "code",
   "execution_count": null,
   "id": "b0077011",
   "metadata": {},
   "outputs": [],
   "source": [
    "import re\n",
    "\n",
    "def add_spaces_between_words(text):\n",
    "    pattern = r'(?<!^)(?=[A-Z])'\n",
    "    modified_text = re.sub(pattern, ' ', text)\n",
    "    return modified_text\n",
    "\n",
    "text = \"PutSpacesBetweenWordsStartingWithCapitalLetters\"\n",
    "modified_text = add_spaces_between_words(text)\n",
    "print(\"Modified text:\", modified_text)\n"
   ]
  },
  {
   "cell_type": "markdown",
   "id": "2fd0194a",
   "metadata": {},
   "source": [
    "Question 24- Python regex to find sequences of one upper case letter followed by lower case letters"
   ]
  },
  {
   "cell_type": "code",
   "execution_count": null,
   "id": "d728d3ba",
   "metadata": {},
   "outputs": [],
   "source": [
    "import re\n",
    "\n",
    "def find_sequences(text):\n",
    "    pattern = r'[A-Z][a-z]+'\n",
    "    sequences = re.findall(pattern, text)\n",
    "    return sequences\n",
    "\n",
    "text = \"This is a Sample Text with Multiple Sequences like ThisOne and AnotherOne.\"\n",
    "sequences = find_sequences(text)\n",
    "print(\"Sequences found:\", sequences)\n"
   ]
  },
  {
   "cell_type": "markdown",
   "id": "9da274af",
   "metadata": {},
   "source": [
    "Question 25- Write a Python program to remove duplicate words from Sentence using Regular Expression"
   ]
  },
  {
   "cell_type": "code",
   "execution_count": null,
   "id": "442cf4f9",
   "metadata": {},
   "outputs": [],
   "source": [
    "import re\n",
    "\n",
    "def remove_duplicate_words(sentence):\n",
    "    pattern = r'\\b(\\w+)\\b\\s+(?=.*\\b\\1\\b)'\n",
    "    modified_sentence = re.sub(pattern, '', sentence)\n",
    "    return modified_sentence.strip()\n",
    "\n",
    "sentence = \"This is is a sample sentence with duplicate words words.\"\n",
    "modified_sentence = remove_duplicate_words(sentence)\n",
    "print(\"Modified sentence:\", modified_sentence)\n"
   ]
  },
  {
   "cell_type": "markdown",
   "id": "972ba66e",
   "metadata": {},
   "source": [
    "Question 26-  Write a python program using RegEx to accept string ending with alphanumeric character."
   ]
  },
  {
   "cell_type": "code",
   "execution_count": null,
   "id": "92608ce9",
   "metadata": {},
   "outputs": [],
   "source": [
    "import re\n",
    "\n",
    "def check_ending_with_alphanumeric(input_string):\n",
    "    pattern = r'^.*[a-zA-Z0-9]$'\n",
    "    match = re.match(pattern, input_string)\n",
    "    if match:\n",
    "        return True\n",
    "    else:\n",
    "        return False\n",
    "\n",
    "input_str = input(\"Enter a string: \")\n",
    "if check_ending_with_alphanumeric(input_str):\n",
    "    print(\"The string ends with an alphanumeric character.\")\n",
    "else:\n",
    "    print(\"The string does not end with an alphanumeric character.\")\n"
   ]
  },
  {
   "cell_type": "code",
   "execution_count": null,
   "id": "e21b5c98",
   "metadata": {},
   "outputs": [],
   "source": []
  }
 ],
 "metadata": {
  "kernelspec": {
   "display_name": "Python 3 (ipykernel)",
   "language": "python",
   "name": "python3"
  },
  "language_info": {
   "codemirror_mode": {
    "name": "ipython",
    "version": 3
   },
   "file_extension": ".py",
   "mimetype": "text/x-python",
   "name": "python",
   "nbconvert_exporter": "python",
   "pygments_lexer": "ipython3",
   "version": "3.9.13"
  }
 },
 "nbformat": 4,
 "nbformat_minor": 5
}
