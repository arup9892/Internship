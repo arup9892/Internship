{
 "cells": [
  {
   "cell_type": "code",
   "execution_count": 3,
   "id": "dc34e4aa",
   "metadata": {},
   "outputs": [
    {
     "name": "stdout",
     "output_type": "stream",
     "text": [
      "Character 'H' appears 1 time(s) in the string.\n",
      "Character 'e' appears 2 time(s) in the string.\n",
      "Character 'l' appears 3 time(s) in the string.\n",
      "Character 'o' appears 3 time(s) in the string.\n",
      "Character ',' appears 1 time(s) in the string.\n",
      "Character ' ' appears 5 time(s) in the string.\n",
      "Character 'I' appears 1 time(s) in the string.\n",
      "Character 'a' appears 3 time(s) in the string.\n",
      "Character 'm' appears 2 time(s) in the string.\n",
      "Character 'r' appears 3 time(s) in the string.\n",
      "Character 'n' appears 4 time(s) in the string.\n",
      "Character 'i' appears 2 time(s) in the string.\n",
      "Character 'g' appears 3 time(s) in the string.\n",
      "Character 'p' appears 2 time(s) in the string.\n",
      "Character 'y' appears 1 time(s) in the string.\n",
      "Character 't' appears 1 time(s) in the string.\n",
      "Character 'h' appears 1 time(s) in the string.\n",
      "Character '!' appears 1 time(s) in the string.\n"
     ]
    }
   ],
   "source": [
    "def character_frequency(string):\n",
    "    frequency = {}\n",
    "    for char in string:\n",
    "        if char in frequency:\n",
    "            frequency[char] += 1\n",
    "        else:\n",
    "            frequency[char] = 1\n",
    "    \n",
    "    return frequency\n",
    "\n",
    "def print_character_frequency(string):\n",
    "    frequency = character_frequency(string)\n",
    "    for char, count in frequency.items():\n",
    "        print(f\"Character '{char}' appears {count} time(s) in the string.\")\n",
    "\n",
    "input_string = \"Hello, I am learning python programing!\"\n",
    "print_character_frequency(input_string)\n"
   ]
  },
  {
   "cell_type": "code",
   "execution_count": null,
   "id": "6bc8c4ee",
   "metadata": {},
   "outputs": [],
   "source": []
  }
 ],
 "metadata": {
  "kernelspec": {
   "display_name": "Python 3 (ipykernel)",
   "language": "python",
   "name": "python3"
  },
  "language_info": {
   "codemirror_mode": {
    "name": "ipython",
    "version": 3
   },
   "file_extension": ".py",
   "mimetype": "text/x-python",
   "name": "python",
   "nbconvert_exporter": "python",
   "pygments_lexer": "ipython3",
   "version": "3.9.13"
  }
 },
 "nbformat": 4,
 "nbformat_minor": 5
}
