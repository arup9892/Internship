{
 "cells": [
  {
   "cell_type": "code",
   "execution_count": 1,
   "id": "b1f60e13",
   "metadata": {},
   "outputs": [
    {
     "name": "stdout",
     "output_type": "stream",
     "text": [
      "Enter the length of the first side: 20\n",
      "Enter the length of the second side: 20\n",
      "The length of the third side is: 28.284271247461902\n"
     ]
    }
   ],
   "source": [
    "import math\n",
    "\n",
    "def calculate_third_side(side1, side2):\n",
    "    third_side = math.sqrt(side1**2 + side2**2)\n",
    "    return third_side\n",
    "\n",
    "side1 = float(input(\"Enter the length of the first side: \"))\n",
    "side2 = float(input(\"Enter the length of the second side: \"))\n",
    "\n",
    "third_side = calculate_third_side(side1, side2)\n",
    "print(\"The length of the third side is:\", third_side)"
   ]
  },
  {
   "cell_type": "code",
   "execution_count": null,
   "id": "235902a8",
   "metadata": {},
   "outputs": [],
   "source": []
  }
 ],
 "metadata": {
  "kernelspec": {
   "display_name": "Python 3 (ipykernel)",
   "language": "python",
   "name": "python3"
  },
  "language_info": {
   "codemirror_mode": {
    "name": "ipython",
    "version": 3
   },
   "file_extension": ".py",
   "mimetype": "text/x-python",
   "name": "python",
   "nbconvert_exporter": "python",
   "pygments_lexer": "ipython3",
   "version": "3.9.13"
  }
 },
 "nbformat": 4,
 "nbformat_minor": 5
}
